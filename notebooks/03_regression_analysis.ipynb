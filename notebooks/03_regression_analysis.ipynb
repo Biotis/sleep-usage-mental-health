{
 "cells": [
  {
   "cell_type": "markdown",
   "id": "cf7bb10e",
   "metadata": {},
   "source": [
    "# 03_regression_analysis.ipynb\n",
    "\n",
    "전처리 결과(Parquet)를 로드해 앱 사용량(카테고리)과 수면지표의 주효과 및 조절효과(상호작용) 를 단계적 회귀로 검증합니다. 반복측정(week within uid)을 고려해 cluster-robust 표준오차(그룹=uid) 를 사용합니다. 결과표/VIF/조절효과 그래프를 results/에 저장합니다. (데이터 비공개)"
   ]
  },
  {
   "cell_type": "markdown",
   "id": "c547438c",
   "metadata": {},
   "source": [
    "셀 1 — 로드/컬럼 정리"
   ]
  },
  {
   "cell_type": "code",
   "execution_count": null,
   "id": "5009ffde",
   "metadata": {},
   "outputs": [],
   "source": [
    "# TL;DR: Parquet 로드 → 중심화/상호작용(여기서만) → OLS(클러스터 SE) → VIF/플롯 저장\n",
    "import pyarrow.parquet as pq\n",
    "import pandas as pd, numpy as np\n",
    "from pathlib import Path\n",
    "\n",
    "Path(\"results/figures\").mkdir(parents=True, exist_ok=True)\n",
    "Path(\"results/tables\").mkdir(parents=True, exist_ok=True)\n",
    "\n",
    "PARQUET_IN = \"results/tables/processed_weekly.parquet\"\n",
    "df = pq.read_table(PARQUET_IN).to_pandas()\n",
    "df.columns = [c.replace('.', '_') for c in df.columns]\n"
   ]
  },
  {
   "cell_type": "markdown",
   "id": "eec78443",
   "metadata": {},
   "source": [
    "셀 2 — 중심화/상호작용"
   ]
  },
  {
   "cell_type": "code",
   "execution_count": null,
   "id": "58f029f5",
   "metadata": {},
   "outputs": [],
   "source": [
    "apps = ['AppCategory_GAME','AppCategory_MAPS','AppCategory_NEWS',\n",
    "        'AppCategory_PRODUCTIVITY','AppCategory_SOCIAL','AppCategory_VIDEO']\n",
    "\n",
    "# *_hours 존재 시 그걸 사용\n",
    "apps = [c if c in df.columns else f\"{c}_hours\" for c in apps]\n",
    "y_vars = ['PHQ9_score','GAD7_score','Stress_score']\n",
    "\n",
    "# 중심화\n",
    "for c in apps:\n",
    "    df[f\"{c}_c\"] = df[c] - df[c].mean()\n",
    "df[\"sleep_c\"] = df[\"mean_confidence_sleep\"] - df[\"mean_confidence_sleep\"].mean()\n",
    "\n",
    "# 상호작용\n",
    "for c in apps:\n",
    "    short = c.replace(\"AppCategory_\",\"\").replace(\"_hours\",\"\")\n",
    "    df[f\"{short}_x_sleep\"] = df[f\"{c}_c\"] * df[\"sleep_c\"]\n",
    "\n",
    "# cluster SE를 위한 그룹\n",
    "df[\"uid\"] = df[\"uid\"].astype(\"category\")\n"
   ]
  },
  {
   "cell_type": "markdown",
   "id": "23b113e6",
   "metadata": {},
   "source": [
    "셀 3 — 단계적 회귀(클러스터-강건 SE)"
   ]
  },
  {
   "cell_type": "code",
   "execution_count": null,
   "id": "398da096",
   "metadata": {},
   "outputs": [],
   "source": [
    "import statsmodels.formula.api as smf\n",
    "\n",
    "def fit_steps(dep, app):\n",
    "    \"\"\"Step1: app_c / Step2: + sleep_c / Step3: + interaction\"\"\"\n",
    "    short = app.replace(\"AppCategory_\",\"\").replace(\"_hours\",\"\")\n",
    "    f1 = f\"{dep} ~ {app}_c\"\n",
    "    f2 = f\"{dep} ~ {app}_c + sleep_c\"\n",
    "    f3 = f\"{dep} ~ {app}_c + sleep_c + {short}_x_sleep\"\n",
    "    kw = dict(cov_type=\"cluster\", cov_kwds={\"groups\": df[\"uid\"]})\n",
    "    return (smf.ols(f1, data=df).fit(**kw),\n",
    "            smf.ols(f2, data=df).fit(**kw),\n",
    "            smf.ols(f3, data=df).fit(**kw))\n",
    "\n",
    "results = {}\n",
    "for app in apps:\n",
    "    results[app] = {dep: fit_steps(dep, app) for dep in y_vars}\n",
    "\n",
    "# Step3 요약 표 저장\n",
    "rows=[]\n",
    "for app in apps:\n",
    "    short = app.replace(\"AppCategory_\",\"\").replace(\"_hours\",\"\")\n",
    "    for dep in y_vars:\n",
    "        m = results[app][dep][2]\n",
    "        rows.append({\n",
    "            \"Category\": short, \"Dependent\": dep, \"R2\": m.rsquared,\n",
    "            \"App_t\": m.tvalues.get(f\"{app}_c\", np.nan),\n",
    "            \"App_p\": m.pvalues.get(f\"{app}_c\", np.nan),\n",
    "            \"Sleep_t\": m.tvalues.get(\"sleep_c\", np.nan),\n",
    "            \"Sleep_p\": m.pvalues.get(\"sleep_c\", np.nan),\n",
    "            \"Inter_t\": m.tvalues.get(f\"{short}_x_sleep\", np.nan),\n",
    "            \"Inter_p\": m.pvalues.get(f\"{short}_x_sleep\", np.nan),\n",
    "        })\n",
    "summary_df = pd.DataFrame(rows)\n",
    "summary_df.to_csv(\"results/tables/moderation_step3_APA.csv\", index=False)\n",
    "summary_df.head()\n"
   ]
  },
  {
   "cell_type": "markdown",
   "id": "cb3772bf",
   "metadata": {},
   "source": [
    "셀 4 — VIF(상호작용 포함)"
   ]
  },
  {
   "cell_type": "code",
   "execution_count": null,
   "id": "f0b77a1a",
   "metadata": {},
   "outputs": [],
   "source": [
    "from statsmodels.stats.outliers_influence import variance_inflation_factor as vif\n",
    "vif_rows=[]\n",
    "for app in apps:\n",
    "    short = app.replace(\"AppCategory_\",\"\").replace(\"_hours\",\"\")\n",
    "    vars_v = [f\"{app}_c\",\"sleep_c\",f\"{short}_x_sleep\"]\n",
    "    X = df[vars_v].values\n",
    "    for i,var in enumerate(vars_v):\n",
    "        vif_rows.append({\"Category\":short,\"Variable\":var,\"VIF\":vif(X,i)})\n",
    "\n",
    "vif_df = pd.DataFrame(vif_rows)\n",
    "vif_df.to_csv(\"results/tables/vif_by_category.csv\", index=False)\n",
    "vif_df.head()\n"
   ]
  },
  {
   "cell_type": "markdown",
   "id": "de7903e8",
   "metadata": {},
   "source": [
    "셀 5 — 조절효과 플롯(유의한 것만 저장)"
   ]
  },
  {
   "cell_type": "code",
   "execution_count": null,
   "id": "8a8ac357",
   "metadata": {},
   "outputs": [],
   "source": [
    "import matplotlib.pyplot as plt\n",
    "\n",
    "def plot_moderation(dep, model, app_short, app_c_col):\n",
    "    x = np.linspace(df[app_c_col].min(), df[app_c_col].max(), 200)\n",
    "    mean, std = df[\"sleep_c\"].mean(), df[\"sleep_c\"].std()\n",
    "    inter = f\"{app_short}_x_sleep\"\n",
    "\n",
    "    b0 = model.params.get(\"Intercept\",0)\n",
    "    b1 = model.params.get(app_c_col,0)\n",
    "    b2 = model.params.get(\"sleep_c\",0)\n",
    "    b3 = model.params.get(inter,0)\n",
    "\n",
    "    y_low  = b0 + b1*x + b2*(mean-std) + b3*x*(mean-std)\n",
    "    y_mid  = b0 + b1*x + b2* mean      + b3*x* mean\n",
    "    y_high = b0 + b1*x + b2*(mean+std) + b3*x*(mean+std)\n",
    "\n",
    "    plt.figure(figsize=(10,6))\n",
    "    plt.plot(x,y_low, label='Low Sleep (-1 SD)')\n",
    "    plt.plot(x,y_mid, label='Mean Sleep')\n",
    "    plt.plot(x,y_high,label='High Sleep (+1 SD)')\n",
    "    plt.xlabel(f'{app_short} Usage (centered)'); plt.ylabel(dep)\n",
    "    plt.title(f'Moderation: {app_short} × Sleep on {dep}')\n",
    "    plt.legend(); plt.grid(True)\n",
    "    out = f\"results/figures/moderation_{app_short}_{dep}.png\"\n",
    "    plt.tight_layout(); plt.savefig(out, dpi=180); plt.show()\n",
    "    print(\"→ 저장:\", out)\n",
    "\n",
    "# 예: PHQ9만 도식 (원하시면 GAD7/Stress도 반복)\n",
    "for app in apps:\n",
    "    short = app.replace(\"AppCategory_\",\"\").replace(\"_hours\",\"\")\n",
    "    m = results[app][\"PHQ9_score\"][2]\n",
    "    if m.pvalues.get(f\"{short}_x_sleep\", 1.0) < 0.05:\n",
    "        plot_moderation(\"PHQ9_score\", m, short, f\"{app}_c\")\n"
   ]
  },
  {
   "cell_type": "markdown",
   "id": "d3ce69dd",
   "metadata": {},
   "source": [
    "셀 6 — 앱 사용 범주 집계 → 피벗"
   ]
  },
  {
   "cell_type": "code",
   "execution_count": null,
   "id": "1e97da32",
   "metadata": {},
   "outputs": [],
   "source": [
    "app_usage_agg = (\n",
    "    app_usage_rdd\n",
    "    .map(lambda r: ((r['uid'], r['week'], r['category']), r['duration']))\n",
    "    .reduceByKey(lambda a, b: a + b)\n",
    "    .map(lambda x: (x[0][0], x[0][1], x[0][2], x[1]))\n",
    ")\n",
    "app_usage_df = spark.createDataFrame(app_usage_agg, schema=[\"uid\",\"week\",\"category\",\"duration\"])\n",
    "\n",
    "app_usage_pivot = (app_usage_df.groupBy(\"uid\",\"week\")\n",
    "                   .pivot(\"category\")\n",
    "                   .sum(\"duration\")\n",
    "                   .fillna(0))\n"
   ]
  },
  {
   "cell_type": "markdown",
   "id": "247c7172",
   "metadata": {},
   "source": [
    "셀 7 — 수면 지표 집계 + 주의(시간 문자열)"
   ]
  },
  {
   "cell_type": "code",
   "execution_count": null,
   "id": "3469a186",
   "metadata": {},
   "outputs": [],
   "source": [
    "# 7 — 수면 다이어리: \"HH:MM:SS\" → 분(min) 환산 후 주 평균\n",
    "from pyspark.sql.functions import split, col, avg\n",
    "\n",
    "sleep_diary_df = sleep_diary_rdd.filter(lambda r: r['week'] is not None).toDF()\n",
    "\n",
    "sleep_diary_df = (\n",
    "    sleep_diary_df\n",
    "    .withColumn(\"parts\", split(col(\"midawake_duration\"), \":\"))\n",
    "    .withColumn(\n",
    "        \"midawake_duration_min\",\n",
    "        col(\"parts\").getItem(0).cast(\"double\") * 60 +        # HH → 분\n",
    "        col(\"parts\").getItem(1).cast(\"double\") +             # MM\n",
    "        col(\"parts\").getItem(2).cast(\"double\") / 60.0        # SS → 분\n",
    "    )\n",
    ")\n",
    "\n",
    "sleep_diary_agg = (\n",
    "    sleep_diary_df\n",
    "    .groupBy(\"uid\", \"week\")\n",
    "    .agg(avg(\"midawake_duration_min\").alias(\"midawake_duration_sleep\"))\n",
    ")\n"
   ]
  },
  {
   "cell_type": "markdown",
   "id": "99c80e63",
   "metadata": {},
   "source": [
    "셀 8 — 병합 & 결측 대치"
   ]
  },
  {
   "cell_type": "code",
   "execution_count": null,
   "id": "5a670869",
   "metadata": {},
   "outputs": [],
   "source": [
    "df_merged = (app_usage_pivot\n",
    "             .join(response_scores_df, on=[\"uid\",\"week\"], how=\"inner\")\n",
    "             .join(sleep_agg,          on=[\"uid\",\"week\"], how=\"left\")\n",
    "             .join(sleep_diary_agg,    on=[\"uid\",\"week\"], how=\"left\"))\n",
    "\n",
    "avg_conf  = df_merged.select(_mean(\"mean_confidence_sleep\")).first()[0]\n",
    "avg_awake = df_merged.select(_mean(\"midawake_duration_sleep\")).first()[0]\n",
    "df_merged = df_merged.fillna({\n",
    "    \"mean_confidence_sleep\":   avg_conf,\n",
    "    \"midawake_duration_sleep\": avg_awake\n",
    "})\n",
    "\n",
    "df_merged.printSchema()\n",
    "df_merged.show(5, truncate=False)"
   ]
  },
  {
   "cell_type": "markdown",
   "id": "d30c6ce5",
   "metadata": {},
   "source": [
    "셀 9 — Pandas로 변환, 컬럼명 정리(‘.’→‘_’), 중심화/상호작용 생성"
   ]
  },
  {
   "cell_type": "code",
   "execution_count": null,
   "id": "b4a1c223",
   "metadata": {},
   "outputs": [],
   "source": [
    "results = {'Step1': {}, 'Step2': {}, 'Step3': {}}\n",
    "\n",
    "for category in app_categories:\n",
    "    short = category.replace(\"AppCategory_\", \"\")\n",
    "    cat_centered = f\"{category}_centered\"\n",
    "    interaction = f\"{short}_sleep_interaction\"\n",
    "\n",
    "    results['Step1'][short] = {}\n",
    "    results['Step2'][short] = {}\n",
    "    results['Step3'][short] = {}\n",
    "\n",
    "    for dep in dependent_vars:\n",
    "        f1 = f\"{dep} ~ {cat_centered}\"\n",
    "        f2 = f\"{dep} ~ {cat_centered} + mean_confidence_sleep_centered\"\n",
    "        f3 = f\"{dep} ~ {cat_centered} + mean_confidence_sleep_centered + {interaction}\"\n",
    "\n",
    "        results['Step1'][short][dep] = smf.ols(f1, data=df_pd).fit()\n",
    "        results['Step2'][short][dep] = smf.ols(f2, data=df_pd).fit()\n",
    "        results['Step3'][short][dep] = smf.ols(f3, data=df_pd).fit()\n",
    "\n",
    "# 콘솔 요약(원본 출력 형식 유지)\n",
    "print(\"\\n=== 회귀분석 결과 요약 ===\")\n",
    "for step in ['Step1','Step2','Step3']:\n",
    "    print(f\"\\n--- {step} 결과 ---\")\n",
    "    for category in results[step]:\n",
    "        print(f\"\\n카테고리: {category}\")\n",
    "        for dep in dependent_vars:\n",
    "            m = results[step][category][dep]\n",
    "            print(f\"  {dep}:\")\n",
    "            print(f\"    R-squared: {m.rsquared:.3f}\")\n",
    "            for var in m.params.index:\n",
    "                print(f\"    {var}: t={m.tvalues[var]:.3f}, p={m.pvalues[var]:.3f}\")\n",
    "\n",
    "# APA 스타일 표(DataFrame) 저장\n",
    "rows = []\n",
    "for category in results['Step3']:\n",
    "    interaction_term = f\"{category}_sleep_interaction\"\n",
    "    category_centered = f\"AppCategory_{category}_centered\"\n",
    "    for dep in dependent_vars:\n",
    "        m = results['Step3'][category][dep]\n",
    "        rows.append({\n",
    "            'Category': category,\n",
    "            'Dependent': dep,\n",
    "            'R2': m.rsquared,\n",
    "            'App_t': m.tvalues.get(category_centered, np.nan),\n",
    "            'App_p': m.pvalues.get(category_centered, np.nan),\n",
    "            'Sleep_t': m.tvalues.get('mean_confidence_sleep_centered', np.nan),\n",
    "            'Sleep_p': m.pvalues.get('mean_confidence_sleep_centered', np.nan),\n",
    "            'Interaction_t': m.tvalues.get(interaction_term, np.nan),\n",
    "            'Interaction_p': m.pvalues.get(interaction_term, np.nan)\n",
    "        })\n",
    "summary_df = pd.DataFrame(rows)\n",
    "summary_path = OUT_TBL / \"moderation_step3_APA.csv\"\n",
    "summary_df.to_csv(summary_path, index=False)\n",
    "print(\"\\n→ 저장:\", summary_path)\n"
   ]
  },
  {
   "cell_type": "markdown",
   "id": "c0f351f8",
   "metadata": {},
   "source": [
    "셀 11 — VIF + 저장"
   ]
  },
  {
   "cell_type": "code",
   "execution_count": null,
   "id": "9ac2d686",
   "metadata": {},
   "outputs": [],
   "source": [
    "vif_rows = []\n",
    "for category in app_categories:\n",
    "    cat_short = category.replace('AppCategory_', '')\n",
    "    vars_vif = [f\"{category}_centered\", \"mean_confidence_sleep_centered\", f\"{cat_short}_sleep_interaction\"]\n",
    "    X = df_pd[vars_vif].values\n",
    "    vifs = [variance_inflation_factor(X, i) for i in range(len(vars_vif))]\n",
    "    for var, vif in zip(vars_vif, vifs):\n",
    "        vif_rows.append({\"Category\": cat_short, \"Variable\": var, \"VIF\": vif})\n",
    "\n",
    "vif_df = pd.DataFrame(vif_rows)\n",
    "vif_path = OUT_TBL / \"vif_by_category.csv\"\n",
    "vif_df.to_csv(vif_path, index=False)\n",
    "print(\"→ 저장:\", vif_path)"
   ]
  },
  {
   "cell_type": "markdown",
   "id": "1cdd1081",
   "metadata": {},
   "source": [
    "셀 12 — 조절효과 플롯(원본 로직 유지) + 저장"
   ]
  },
  {
   "cell_type": "code",
   "execution_count": null,
   "id": "79d97bd7",
   "metadata": {},
   "outputs": [],
   "source": [
    "def plot_moderation(dep_var, model, category_centered, category_short, out_dir=OUT_FIG):\n",
    "    x = np.linspace(df_pd[category_centered].min(), df_pd[category_centered].max(), 200)\n",
    "    mean_conf = df_pd['mean_confidence_sleep_centered'].mean()\n",
    "    std_conf  = df_pd['mean_confidence_sleep_centered'].std()\n",
    "    inter = f\"{category_short}_sleep_interaction\"\n",
    "\n",
    "    y_low  = (model.params['Intercept']\n",
    "              + model.params.get(category_centered,0)*x\n",
    "              + model.params.get('mean_confidence_sleep_centered',0)*(mean_conf - std_conf)\n",
    "              + model.params.get(inter,0)*x*(mean_conf - std_conf))\n",
    "    y_mean = (model.params['Intercept']\n",
    "              + model.params.get(category_centered,0)*x\n",
    "              + model.params.get('mean_confidence_sleep_centered',0)*mean_conf\n",
    "              + model.params.get(inter,0)*x*mean_conf)\n",
    "    y_high = (model.params['Intercept']\n",
    "              + model.params.get(category_centered,0)*x\n",
    "              + model.params.get('mean_confidence_sleep_centered',0)*(mean_conf + std_conf)\n",
    "              + model.params.get(inter,0)*x*(mean_conf + std_conf))\n",
    "\n",
    "    plt.figure(figsize=(10,6))\n",
    "    plt.plot(x, y_low,  label='Low Sleep Quality (-1 SD)', color='red')\n",
    "    plt.plot(x, y_mean, label='Mean Sleep Quality',        color='blue')\n",
    "    plt.plot(x, y_high, label='High Sleep Quality (+1 SD)',color='green')\n",
    "    plt.xlabel(f'{category_short} Usage (centered)')\n",
    "    plt.ylabel(dep_var)\n",
    "    plt.title(f'Moderation Effect: {category_short} × Sleep on {dep_var}')\n",
    "    plt.legend(); plt.grid(True)\n",
    "    out_path = out_dir / f\"moderation_{category_short}_{dep_var}.png\"\n",
    "    plt.tight_layout(); plt.savefig(out_path, dpi=180); plt.show()\n",
    "    print(\"→ 저장:\", out_path)\n",
    "\n",
    "print(\"\\n=== 유의미한 조절효과 시각화 ===\")\n",
    "for category in results['Step3']:\n",
    "    cat_centered = f\"AppCategory_{category}_centered\"\n",
    "    inter = f\"{category}_sleep_interaction\"\n",
    "    for dep in dependent_vars:\n",
    "        m = results['Step3'][category][dep]\n",
    "        if m.pvalues.get(inter, 1.0) < 0.05:\n",
    "            print(f\"Plotting moderation effect for {category} on {dep}\")\n",
    "            plot_moderation(dep, m, cat_centered, category)"
   ]
  },
  {
   "cell_type": "markdown",
   "id": "8c6c0fab",
   "metadata": {},
   "source": [
    "셀 13 — 종료"
   ]
  },
  {
   "cell_type": "code",
   "execution_count": null,
   "id": "46bf172f",
   "metadata": {},
   "outputs": [],
   "source": [
    "spark.stop()"
   ]
  }
 ],
 "metadata": {
  "kernelspec": {
   "display_name": ".venv (3.12.3)",
   "language": "python",
   "name": "python3"
  },
  "language_info": {
   "name": "python",
   "version": "3.12.3"
  }
 },
 "nbformat": 4,
 "nbformat_minor": 5
}
