{
 "cells": [
  {
   "cell_type": "markdown",
   "id": "66bea43c",
   "metadata": {},
   "source": [
    "# 02_correlation_analysis.ipynb\n",
    "\n",
    "전처리 산출물(Parquet)을 로드해 기술통계·분포(히스토그램), Spearman 상관(ρ)과 FDR 보정(p_fdr)을 계산/시각화합니다. 결과 표·그림은 results/에 저장합니다. (데이터 비공개)"
   ]
  },
  {
   "cell_type": "markdown",
   "id": "d505c6fe",
   "metadata": {},
   "source": [
    "셀 1 — 로드/컬럼 정리"
   ]
  },
  {
   "cell_type": "code",
   "execution_count": null,
   "id": "9150b610",
   "metadata": {},
   "outputs": [],
   "source": [
    "# TL;DR: processed_weekly.parquet 로드 → 통계/히스토그램/스피어만(FDR) → 저장\n",
    "import pyarrow.parquet as pq\n",
    "import pandas as pd\n",
    "\n",
    "PARQUET_IN = \"results/tables/processed_weekly.parquet\"\n",
    "df = pq.read_table(PARQUET_IN).to_pandas()\n",
    "\n",
    "# 라벨 편의: '.' → '_'\n",
    "df.columns = [c.replace('.', '_') for c in df.columns]"
   ]
  },
  {
   "cell_type": "markdown",
   "id": "27c8076f",
   "metadata": {},
   "source": [
    "셀 2 — 기술통계(+중앙값) & 히스토그램(샘플링)"
   ]
  },
  {
   "cell_type": "code",
   "execution_count": null,
   "id": "5a13b2a8",
   "metadata": {},
   "outputs": [],
   "source": [
    "import numpy as np, matplotlib.pyplot as plt, seaborn as sns\n",
    "from pathlib import Path\n",
    "Path(\"results/figures\").mkdir(parents=True, exist_ok=True)\n",
    "Path(\"results/tables\").mkdir(parents=True, exist_ok=True)\n",
    "\n",
    "num_df = df.select_dtypes(\"number\").copy()\n",
    "cols = [c for c in num_df.columns if c.endswith(\"_hours\")] + [\"PHQ9_score\",\"GAD7_score\",\"Stress_score\"]\n",
    "\n",
    "# 기술통계(+median)\n",
    "desc = num_df[cols].describe().T\n",
    "desc[\"median\"] = num_df[cols].median()\n",
    "desc.to_csv(\"results/tables/descriptive_stats.csv\")\n",
    "\n",
    "# 대용량 안전: 샘플링\n",
    "plot_df = num_df.sample(frac=0.3, random_state=42) if len(num_df) > 20000 else num_df\n",
    "\n",
    "# 히스토그램 패널\n",
    "n=len(cols); ncol=3; nrow=int(np.ceil(n/ncol))\n",
    "plt.figure(figsize=(15,4*nrow))\n",
    "for i,c in enumerate(cols,1):\n",
    "    plt.subplot(nrow,ncol,i)\n",
    "    sns.histplot(plot_df[c].dropna(), kde=True, bins=30)\n",
    "    plt.title(c); plt.xlabel(\"hours\" if c.endswith(\"_hours\") else \"score\"); plt.ylabel(\"Frequency\")\n",
    "plt.tight_layout(); plt.savefig(\"results/figures/dist_panels.png\", dpi=180); plt.show()\n"
   ]
  },
  {
   "cell_type": "markdown",
   "id": "57e2d3fc",
   "metadata": {},
   "source": [
    "셀 3 — Spearman 상관 + FDR 보정 + 히트맵"
   ]
  },
  {
   "cell_type": "code",
   "execution_count": null,
   "id": "5d68f649",
   "metadata": {},
   "outputs": [],
   "source": [
    "from scipy.stats import spearmanr\n",
    "from statsmodels.stats.multitest import multipletests\n",
    "import pandas as pd, numpy as np, matplotlib.pyplot as plt\n",
    "\n",
    "X = [c for c in df.columns if c.endswith(\"_hours\")]\n",
    "Y = [\"PHQ9_score\",\"GAD7_score\",\"Stress_score\"]\n",
    "\n",
    "pairs, rhos, pvals = [], [], []\n",
    "for cx in X:\n",
    "    for cy in Y:\n",
    "        r, p = spearmanr(df[cx], df[cy], nan_policy=\"omit\")\n",
    "        pairs.append((cx,cy)); rhos.append(r); pvals.append(p)\n",
    "\n",
    "rej, p_fdr, _, _ = multipletests(pvals, method=\"fdr_bh\", alpha=0.05)\n",
    "out = pd.DataFrame({\"feature\":[a for a,b in pairs],\n",
    "                    \"target\":[b for a,b in pairs],\n",
    "                    \"rho\":rhos,\"p_raw\":pvals,\"p_fdr\":p_fdr,\"sig_fdr\":rej})\n",
    "out.sort_values([\"target\",\"p_fdr\"]).to_csv(\"results/tables/spearman_fdr.csv\", index=False)\n",
    "\n",
    "# 히트맵(ρ)\n",
    "rho_mat = pd.DataFrame(index=X, columns=Y, dtype=float)\n",
    "for (cx,cy), r in zip(pairs, rhos):\n",
    "    rho_mat.loc[cx,cy] = r\n",
    "\n",
    "plt.figure(figsize=(12,6))\n",
    "plt.imshow(rho_mat.values.astype(float), cmap=\"Greens\", vmin=-1, vmax=1)\n",
    "plt.colorbar(label=\"Spearman ρ\")\n",
    "plt.xticks(range(len(Y)), Y); plt.yticks(range(len(X)), X)\n",
    "plt.title(\"Spearman correlation (features → targets)\")\n",
    "plt.tight_layout(); plt.savefig(\"results/figures/spearman_heatmap.png\", dpi=180); plt.show()\n"
   ]
  }
 ],
 "metadata": {
  "kernelspec": {
   "display_name": "Python 3",
   "language": "python",
   "name": "python3"
  },
  "language_info": {
   "name": "python",
   "version": "3.12.3"
  }
 },
 "nbformat": 4,
 "nbformat_minor": 5
}
